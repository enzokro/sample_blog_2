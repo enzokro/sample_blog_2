{
 "cells": [
  {
   "cell_type": "markdown",
   "metadata": {},
   "source": [
    "# `nbdev` for Blogging and Building Python Libraries"
   ]
  },
  {
   "cell_type": "markdown",
   "metadata": {},
   "source": [
    "## Goals:  \n",
    "- Create a blog and publish our first post.  \n",
    "- Build a custom, dynamic python library for the Sentiment Analysis pipeline in `01_first_runs.ipynb`.   "
   ]
  },
  {
   "cell_type": "markdown",
   "metadata": {},
   "source": [
    "## Intro:"
   ]
  },
  {
   "cell_type": "markdown",
   "metadata": {},
   "source": [
    "This Notebook takes a closer look at the `nbdev` library. `nbdev` is a powerful tool built around two key ideas:  \n",
    "- [Literate Programming](). \n",
    "- [Exploratory Programming]().  \n",
    "\n",
    "The next sections give an overview of these topics, and why their combination is useful for us.  "
   ]
  },
  {
   "cell_type": "markdown",
   "metadata": {},
   "source": [
    "### Literate Programming \n",
    "\n",
    "In Literate Programming, descriptions (documentation) are woven directly into a project's source code. This is opposite from most codebases where documentation lives in a separate set of files. It also goes beyond tools like [sphinx](https://www.sphinx-doc.org/en/master/) that instead parse comments and docstrings into  documentation. \n",
    "\n",
    "Code, tests, and documentation are all first-class citizens in Literate Programming. In `nbdev` a Notebook is the single, unified source for all three things. Instead of having to independently manage code, docs, and tests, everything happens in the Notebook. If the Notebook runs then you know your code will run. The tight integration between what you're doing (code), describing what you're doing (documentation), and making sure it's correct (tests) is a great approach for both research and thinking in general.  "
   ]
  },
  {
   "cell_type": "markdown",
   "metadata": {},
   "source": [
    "### Exploratory Programming  \n",
    "\n",
    "Exploratory Programming is an open-ended approach for new problems and unknown domains. It's very helpful at the start of a project before its scope or requirements are fully flushed out.   \n",
    "\n",
    "The interactive and dynamic nature of Notebooks is ideal for Exploratory Programming. It makes the barrier to try new things extremely low. And it's fun! Jupyter also has many extra tools to inspect code and debug its outputs. "
   ]
  },
  {
   "cell_type": "markdown",
   "metadata": {},
   "source": [
    "### Combining Literate and Exploratory Programming  \n",
    "\n",
    "`nbdev`'s main workflow combines these two ideas. It's a great combo for trying things out, figuring out what they do, and how they work. We can poke around and explore codebases in a much more interactive way than usual. Iterations are fast and cheap so it's easy to follow any hit of curiosity. And if anything breaks, we can always restart the Notebook and try again!  \n",
    "\n",
    "We can also mix and match these ideas as needed. For example at the start of a project, while finding our footing, we might lean Exploratory. Then as the idea matures, we could lean Literate to refine and crystallize our approach.  "
   ]
  },
  {
   "cell_type": "markdown",
   "metadata": {},
   "source": [
    "Now for our first goal: creating and publishing a blog post."
   ]
  },
  {
   "cell_type": "markdown",
   "metadata": {},
   "source": [
    "## Turning Notebooks into Blog Posts"
   ]
  },
  {
   "cell_type": "markdown",
   "metadata": {},
   "source": [
    "First, a high-level summary of the steps to create the blog."
   ]
  },
  {
   "cell_type": "markdown",
   "metadata": {},
   "source": [
    "### High-Level Steps:  \n",
    "1. Create a new nbdev project.  \n",
    "2. Set up the minimum requirements for an nbdev blog.  \n",
    "3. Publish the blog to Github pages."
   ]
  },
  {
   "cell_type": "markdown",
   "metadata": {},
   "source": [
    "> NOTE: This section is based on these two references: \n",
    "> - [Official nbdev tutorial.](https://nbdev.fast.ai/tutorials/tutorial.html#installation)\n",
    "> - [Blogging with nbdev.](https://nbdev.fast.ai/tutorials/blogging.html)"
   ]
  },
  {
   "cell_type": "markdown",
   "metadata": {},
   "source": [
    "`nbdev` leverages an amazing tool called [Quarto](https://quarto.org/) for blogging. Quarto is a publishing framework tailored to scientific and technical articles and posts. In a way it's a blogging platform for Literate Programming, where a series of code cells tell a story and take the reader on a journey. "
   ]
  },
  {
   "cell_type": "markdown",
   "metadata": {},
   "source": [
    "![Alt text](quarto.png)"
   ]
  },
  {
   "cell_type": "markdown",
   "metadata": {},
   "source": [
    "### Creating a new `nbdev` project"
   ]
  },
  {
   "cell_type": "markdown",
   "metadata": {},
   "source": [
    "`nbdev` works on top of a Git repo, so the step is creating an empty git repository. Here is a handy [Github link](https://github.com/new) that takes you straight to the page for creating new repos. "
   ]
  },
  {
   "cell_type": "markdown",
   "metadata": {},
   "source": [
    "> Note: We need a completely empty repo, so don't include a `.gitignore` or `README.md`.  "
   ]
  },
  {
   "cell_type": "markdown",
   "metadata": {},
   "source": [
    "In this example the empty repo is called `sample_blog`, but feel free to call it anything you'd like. We're not married to this name either, we can always create new repos with different, better names. "
   ]
  },
  {
   "cell_type": "markdown",
   "metadata": {},
   "source": [
    "Next, clone this repo to your computer. Make sure to change the github link below to point to your repo instead. \n",
    "\n",
    "```bash\n",
    "# clone the repo to your computer\n",
    "git clone https://github.com/enzokro/sample_blog.git # <-- ! link with your repo here\n",
    "```"
   ]
  },
  {
   "cell_type": "markdown",
   "metadata": {},
   "source": [
    "Now we can move into this empty repo and let `nbdev` work its initialization magic. Run the `nbdev_new` command to get started. It will prompt you for some general info like as a short description about your project.  \n",
    "\n",
    "```bash\n",
    "# move into the new repo and initialize the nbdev project\n",
    "cd sample_blog/\n",
    "nbdev_new\n",
    "```"
   ]
  },
  {
   "cell_type": "markdown",
   "metadata": {},
   "source": [
    "All of the options and configs for your project are found in the `settings.ini` file. `nbdev` looks in this file for any info it needs for its commands."
   ]
  },
  {
   "cell_type": "markdown",
   "metadata": {},
   "source": [
    "When `nbdev_new` finishes running, you will have a new `nbdev` project! Try running a `git status` command to see everything that was added.  \n",
    "\n",
    "We can now commit and push these changes to Github."
   ]
  },
  {
   "cell_type": "markdown",
   "metadata": {},
   "source": [
    "```bash\n",
    "# add, commit, and push the files created by nbdev\n",
    "git add .\n",
    "git commit -m'Initial nbdev project creation'\n",
    "git push\n",
    "```"
   ]
  },
  {
   "cell_type": "markdown",
   "metadata": {},
   "source": [
    "As we mentioned earlier, `nbdev` leverages Quarto for publishing Notebooks. The next steps are turning this nbdev project into a proper Quarto blog. "
   ]
  },
  {
   "cell_type": "markdown",
   "metadata": {},
   "source": [
    "### Adding Quarto to the Mix"
   ]
  },
  {
   "cell_type": "markdown",
   "metadata": {},
   "source": [
    "Start by activating the virtual environment:\n",
    "\n",
    "```bash\n",
    "# acivate the environment\n",
    "mamba activate llm_base\n",
    "```"
   ]
  },
  {
   "cell_type": "markdown",
   "metadata": {},
   "source": [
    "`nbdev` includes a way to install Quarto using the `nbdev_install_quarto` command. Go ahead and run it, but note that it will ask you for administrator privileges.\n",
    "\n",
    "```bash\n",
    "# install quarto\n",
    "nbdev_install_quarto\n",
    "```"
   ]
  },
  {
   "cell_type": "markdown",
   "metadata": {},
   "source": [
    "You may need to refresh the terminal session before it can find the `quarto` commands. To be safe, open up a new terminal and re-activate the environment. Then the command below will check if Quarto was installed successfully.  \n",
    "\n",
    "```bash\n",
    "# shows us where quarto is installed\n",
    "which quarto \n",
    "```"
   ]
  },
  {
   "cell_type": "markdown",
   "metadata": {},
   "source": [
    "Note that the `nbs/` folder usually holds the Notebooks that become a project's documentation, tests, and source code. To make sure Quarto can publish an `nbdev` blog we have to add some files and change this directory structure a bit. "
   ]
  },
  {
   "cell_type": "markdown",
   "metadata": {},
   "source": [
    "First let's take a look at what the new blog-ready `nbs/` folder will look like. "
   ]
  },
  {
   "cell_type": "markdown",
   "metadata": {},
   "source": [
    "**Minimal Quarto blog folder structure**:\n",
    "```\n",
    "sample_blog\n",
    "└───nbs/\n",
    "│   │   _quarto.yml\n",
    "│   │   index.ipynb\n",
    "│   └───blog/\n",
    "│       │   index.qmd\n",
    "│       └───posts/\n",
    "│           └───2023-09-24-first-post/     \n",
    "│               │   index.ipynb\n",
    "```"
   ]
  },
  {
   "cell_type": "markdown",
   "metadata": {},
   "source": [
    "You'll notice that `nbdev` already added the `_quarto.yml` file. The main change we are making is adding a `blog/` folder to the `nbs/` directory. This directory has an `index.qmd` file that tells Quarto about our blog. Here's an example `index.qmd` file that describes our blog and how its posts should be listed:\n",
    "\n",
    "```yaml\n",
    "---\n",
    "title: Example Blog\n",
    "subtitle: Publishing with Quarto and nbdev\n",
    "listing:\n",
    "  sort: \"date desc\"\n",
    "  contents: \"posts\"\n",
    "  sort-ui: false\n",
    "  filter-ui: false\n",
    "  categories: true\n",
    "  feed: true\n",
    "page-layout: full\n",
    "---\n",
    "```"
   ]
  },
  {
   "cell_type": "markdown",
   "metadata": {},
   "source": [
    "Each post gets its own folder and a matching `index.ipynb` Notebook with the actual post's content. Eventually we can add photos, videos, and any other media that enhances the post."
   ]
  },
  {
   "cell_type": "markdown",
   "metadata": {},
   "source": [
    "Next, we will leverage [Github Pages](https://pages.github.com/) to build and host our site for free. The screenshot below shows the settings we need on the Github site for our repo to be published as a blog. Concretely, we need to  `Deploy from a branch` and pick the `gh-pages` branch."
   ]
  },
  {
   "cell_type": "markdown",
   "metadata": {},
   "source": [
    "![image.png](github_pages.png)"
   ]
  },
  {
   "cell_type": "markdown",
   "metadata": {},
   "source": [
    "And that's all there is to it! We can now publish our first post. [Click here]() for a live link to this Notebook turned into a blog post. "
   ]
  },
  {
   "cell_type": "markdown",
   "metadata": {},
   "source": [
    "Now we've seen how `nbdev` lets us quickly create and setup a blog. Next we'll look at another one of its great capabilities: building a fully fledged python library."
   ]
  },
  {
   "cell_type": "markdown",
   "metadata": {},
   "source": [
    "## Creating python libraries with `nbdev`"
   ]
  },
  {
   "cell_type": "markdown",
   "metadata": {},
   "source": [
    "`nbdev` has a set of helper commands that convert Notebooks into complete python libraries.  "
   ]
  },
  {
   "cell_type": "markdown",
   "metadata": {},
   "source": [
    "These helper commands are called `directives` and usually go at the start of a code cell. They start with the special `#|` string which is similar to the shebang `#!` you may have seen in other scripts. These directive tell `nbdev` how to parse the code cell and what to do with it."
   ]
  },
  {
   "cell_type": "markdown",
   "metadata": {},
   "source": [
    "For example, the `default_exp` directive tells `nbdev` what to name an output python file. We use it below to name this specific python file as `lesson_2/simple_pipeline.py`: "
   ]
  },
  {
   "cell_type": "code",
   "execution_count": 1,
   "metadata": {},
   "outputs": [],
   "source": [
    "#| default_exp lesson_2.simple_pipeline"
   ]
  },
  {
   "cell_type": "markdown",
   "metadata": {},
   "source": [
    "After we've named our soon-to-be python file, the `#| export` directive will parse and extract any python code cell we attach to it."
   ]
  },
  {
   "cell_type": "code",
   "execution_count": 2,
   "metadata": {},
   "outputs": [
    {
     "name": "stderr",
     "output_type": "stream",
     "text": [
      "/Users/cck/mambaforge/envs/llm_base/lib/python3.11/site-packages/tqdm/auto.py:21: TqdmWarning: IProgress not found. Please update jupyter and ipywidgets. See https://ipywidgets.readthedocs.io/en/stable/user_install.html\n",
      "  from .autonotebook import tqdm as notebook_tqdm\n"
     ]
    }
   ],
   "source": [
    "#| export  \n",
    "\n",
    "# importing the pieces for the pipeline\n",
    "from transformers import AutoConfig\n",
    "from transformers import AutoTokenizer\n",
    "from transformers import AutoModelForSequenceClassification"
   ]
  },
  {
   "cell_type": "markdown",
   "metadata": {},
   "source": [
    "> A small annoyance: `import` statements have to be in their own code cell. We can't pair them with function calls like `print()`, for example."
   ]
  },
  {
   "cell_type": "markdown",
   "metadata": {},
   "source": [
    "Next, we refactor the code from the previous notebook (`01_first_run.ipynb`) into a simple class. "
   ]
  },
  {
   "cell_type": "code",
   "execution_count": 3,
   "metadata": {},
   "outputs": [],
   "source": [
    "#| export  \n",
    "\n",
    "class SentimentPipeline:\n",
    "    def __init__(self, model_name):\n",
    "        \"\"\"\n",
    "        Sentiment Analysis pipeline.\n",
    "        \"\"\"\n",
    "        self.model_name = model_name\n",
    "        self.config = AutoConfig.from_pretrained(self.model_name)\n",
    "        self.tokenizer = AutoTokenizer.from_pretrained(self.model_name)\n",
    "        self.model = AutoModelForSequenceClassification.from_pretrained(self.model_name)\n",
    "\n",
    "\n",
    "    def preprocess(self, text: str):\n",
    "        \"\"\"\n",
    "        Sends `text` through the LLM's tokenizer.  \n",
    "        The tokenizer turns words and characters into special inputs for the LLM.\n",
    "        \"\"\"\n",
    "        tokenized_inputs = self.tokenizer(text, return_tensors='pt')\n",
    "        return tokenized_inputs\n",
    "    \n",
    "\n",
    "    def forward(self, text: str):\n",
    "        \"\"\"\n",
    "        First we preprocess the `text` into tokens.\n",
    "        Then we send the `token_inputs` to the model.\n",
    "        \"\"\"\n",
    "        token_inputs = self.preprocess(text)\n",
    "        outputs = self.model(**token_inputs)\n",
    "        return outputs\n",
    "    \n",
    "\n",
    "    def process_outputs(self, outs):\n",
    "        \"\"\"\n",
    "        Here we mimic the post-processing that HuggingFace automatically does in its `pipeline`.  \n",
    "        \"\"\"\n",
    "        # grab the raw scores from the model for Positive and Negative labels\n",
    "        logits = outs.logits\n",
    "\n",
    "        # find the strongest label score, aka the model's decision\n",
    "        pred_idx = logits.argmax(1).item()\n",
    "\n",
    "        # use the `config` object to find the actual class label\n",
    "        pred_label = self.config.id2label[pred_idx]  \n",
    "\n",
    "        # calculate the human-readable probability score for this class\n",
    "        pred_score = logits.softmax(-1)[:, pred_idx].item()\n",
    "\n",
    "        # return the predicted label and its score\n",
    "        return {\n",
    "            'label': pred_label,\n",
    "            'score': pred_score, \n",
    "        }\n",
    "    \n",
    "\n",
    "    def __call__(self, text: str):\n",
    "        \"\"\"\n",
    "        Overriding the call method to easily and intuitively call the pipeline.\n",
    "        \"\"\"\n",
    "        model_outs = self.forward(text)\n",
    "        preds = self.process_outputs(model_outs)\n",
    "        return preds\n",
    "\n",
    "    \n",
    "    def __repr__(self):\n",
    "        \"\"\"\n",
    "        Cleaner representation of the pipeline.\n",
    "        \"\"\"\n",
    "        return f\"SentimentAnalysis_{self.model_name}\""
   ]
  },
  {
   "cell_type": "markdown",
   "metadata": {},
   "source": [
    "Let's now make sure that `SentimentPipeline` actually works, since live tests are one of the main benefits of Notebook coding! Note that since we don't put an `|# export` directive in the cell below, it won't be part of the exported python file either.\n"
   ]
  },
  {
   "cell_type": "code",
   "execution_count": 4,
   "metadata": {},
   "outputs": [],
   "source": [
    "# testing the pipeline\n",
    "\n",
    "# loading the default model\n",
    "model_name = 'distilbert-base-uncased-finetuned-sst-2-english'\n",
    "classifier = SentimentPipeline(model_name) \n",
    "\n",
    "# make sure that the official HuggingFace example works as expected\n",
    "results = classifier(\"We are very happy to show you the 🤗 Transformers library.\"); results\n",
    "assert results['label'] == 'POSITIVE'"
   ]
  },
  {
   "cell_type": "markdown",
   "metadata": {},
   "source": [
    "You can think of the cell above as a unit test for the `SentimentAnalysis` pipeline. `nbdev` runs this notebook when it compiles the library, and if the tests fail then the build fails. This is a great, built-in way of making sure that the library works as expected."
   ]
  },
  {
   "cell_type": "markdown",
   "metadata": {},
   "source": [
    "### Exporting the library  "
   ]
  },
  {
   "cell_type": "markdown",
   "metadata": {},
   "source": [
    "We can now export the library using the `nbdev_build_lib` command. This will create a file inside of the top-level library folder `Fractal_LLM_Course`. Per the `default_exp` directive, the file will called  `lesson_2/simple_pipeline.py`.  \n"
   ]
  },
  {
   "cell_type": "markdown",
   "metadata": {},
   "source": [
    "\n",
    "> Note: we can add nested library directories with the typical python dot (`.`) syntax. For example, if we'd instead used the directive `|# default_exp simple_pipeline`, then the file would live at the top-level library folder: `Fractal_LLM_Course/simple_pipeline.py`. Adding the `lesson_2.` created the `lesson_2/` folder for us."
   ]
  },
  {
   "cell_type": "markdown",
   "metadata": {},
   "source": [
    "The following set of commands will:  \n",
    "- Export the Notebooks into a library.  \n",
    "- Install the library as an editable install. \n",
    "- Import the newly installed library in a python shell.  \n",
    "\n",
    "Make sure to run them from the top-level directory of the repo. "
   ]
  },
  {
   "cell_type": "markdown",
   "metadata": {},
   "source": [
    "```bash\n",
    "# export Notebooks into a library\n",
    "nbdev_export_lib  \n",
    "\n",
    "# install the library as an editable install\n",
    "pip install -e . \n",
    "```"
   ]
  },
  {
   "cell_type": "markdown",
   "metadata": {},
   "source": [
    "Now open up a python shell to import and use the library. \n",
    "\n",
    "```python\n",
    "# import the newly installed library \n",
    "from Fractal_LLM_Course.lesson_2.simple_pipeline import SentimentPipeline\n",
    "\n",
    "# use our custom SentimentAnalysis pipeline!\n",
    "model_name = 'distilbert-base-uncased-finetuned-sst-2-english'\n",
    "classifier = SentimentPipeline(model_name) \n",
    "```"
   ]
  },
  {
   "cell_type": "markdown",
   "metadata": {},
   "source": [
    "Congrats! We've now built and installed a full, working python library. This is just the start, `nbdev` has many other advanced tools you can [read about here](https://nbdev.fast.ai/tutorials/tutorial.html#advanced-functionality)."
   ]
  },
  {
   "cell_type": "markdown",
   "metadata": {},
   "source": [
    "# Conclusion"
   ]
  },
  {
   "cell_type": "markdown",
   "metadata": {},
   "source": [
    "This Notebook covered two key features of `nbdev`:  \n",
    "- Creating a blog. \n",
    "- Building a python library."
   ]
  },
  {
   "cell_type": "markdown",
   "metadata": {},
   "source": [
    "Both of these features are great for research and development. We can quickly try new ideas and easily share them with others."
   ]
  }
 ],
 "metadata": {
  "kernelspec": {
   "display_name": "python3",
   "language": "python",
   "name": "python3"
  },
  "language_info": {
   "codemirror_mode": {
    "name": "ipython",
    "version": 3
   },
   "file_extension": ".py",
   "mimetype": "text/x-python",
   "name": "python",
   "nbconvert_exporter": "python",
   "pygments_lexer": "ipython3",
   "version": "3.11.5"
  }
 },
 "nbformat": 4,
 "nbformat_minor": 2
}
